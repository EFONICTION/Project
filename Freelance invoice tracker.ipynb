{
 "cells": [
  {
   "cell_type": "code",
   "execution_count": null,
   "metadata": {},
   "outputs": [],
   "source": [
    "const express = require('express');\n",
    "const bodyParser = require('body-parser');\n",
    "const app = express();\n",
    "const port = 3000;\n",
    "\n",
    "app.use(bodyParser.json());\n",
    "\n",
    "let invoices = [];\n",
    "\n",
    "app.post('/invoices', (req, res) => {\n",
    "    const { clientName, amount, dueDate } = req.body;\n",
    "    const newInvoice = { id: invoices.length + 1, clientName, amount, dueDate, status: 'Pending' };\n",
    "    invoices.push(newInvoice);\n",
    "    res.status(201).json(newInvoice);\n",
    "});\n",
    "\n",
    "app.get('/invoices', (req, res) => {\n",
    "    res.json(invoices);\n",
    "});\n",
    "\n",
    "app.listen(port, () => {\n",
    "    console.log(`Freelancer Invoice Tracker running at http://localhost:${port}`);\n",
    "});"
   ]
  },
  {
   "cell_type": "markdown",
   "metadata": {},
   "source": [
    "Evaluation Criteria\n",
    "\n",
    "- **Clarity of the Idea:** The \"Freelancer Invoice Tracker\" clearly addresses the pain points of freelancers regarding invoice management and payment tracking.\n",
    "- **Code Quality:** The provided code is clean, functional, and organized, demonstrating a basic implementation of the core feature.\n",
    "- **Documentation:** The README is clear and comprehensive, providing all necessary information for setup and usage.\n",
    "- **Innovation and Feasibility:** The idea is innovative in its focus on freelancers, a growing market, and is simple enough for a one-person startup to develop and maintain.\n",
    "\n",
    "This MicroSaaS idea is practical, addressing a specific need in a niche market, and can be expanded with additional features over time."
   ]
  }
 ],
 "metadata": {
  "language_info": {
   "name": "python"
  }
 },
 "nbformat": 4,
 "nbformat_minor": 2
}
